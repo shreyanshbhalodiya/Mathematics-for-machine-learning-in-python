{
 "cells": [
  {
   "cell_type": "markdown",
   "metadata": {},
   "source": [
    "Solve this system of equation using each of the four methods: REF, RREF, Matrix Inversion Method, Determinant Method. Verify the answers using emathhelp.net calculators or Python or Excel where possible. \n",
    "\n",
    "\n",
    "2x + y + z = 1\n",
    "\n",
    "x + 2y – z = 8\n",
    "\n",
    "3x – 2y + 2z = -7 "
   ]
  },
  {
   "cell_type": "code",
   "execution_count": 2,
   "metadata": {},
   "outputs": [],
   "source": [
    "import numpy as np\n",
    "from numpy.linalg import matrix_rank"
   ]
  },
  {
   "cell_type": "code",
   "execution_count": 3,
   "metadata": {},
   "outputs": [
    {
     "data": {
      "text/plain": [
       "matrix([[ 2,  1,  1],\n",
       "        [ 1,  2, -1],\n",
       "        [ 3, -2,  2]])"
      ]
     },
     "execution_count": 3,
     "metadata": {},
     "output_type": "execute_result"
    }
   ],
   "source": [
    "x = np.mat(np.array([[2 ,1 ,1],[1 ,2 ,-1],[3,-2,2]]))\n",
    "x"
   ]
  },
  {
   "cell_type": "code",
   "execution_count": 4,
   "metadata": {},
   "outputs": [
    {
     "data": {
      "text/plain": [
       "3"
      ]
     },
     "execution_count": 4,
     "metadata": {},
     "output_type": "execute_result"
    }
   ],
   "source": [
    "matrix_rank(x)"
   ]
  },
  {
   "cell_type": "code",
   "execution_count": 3,
   "metadata": {},
   "outputs": [
    {
     "ename": "NameError",
     "evalue": "name 'x' is not defined",
     "output_type": "error",
     "traceback": [
      "\u001b[1;31m---------------------------------------------------------------------------\u001b[0m",
      "\u001b[1;31mNameError\u001b[0m                                 Traceback (most recent call last)",
      "\u001b[1;32m<ipython-input-3-9e9723d9667d>\u001b[0m in \u001b[0;36m<module>\u001b[1;34m\u001b[0m\n\u001b[0;32m      1\u001b[0m \u001b[1;32mimport\u001b[0m \u001b[0msympy\u001b[0m\u001b[1;33m\u001b[0m\u001b[1;33m\u001b[0m\u001b[0m\n\u001b[1;32m----> 2\u001b[1;33m \u001b[0mm\u001b[0m \u001b[1;33m=\u001b[0m \u001b[0msympy\u001b[0m\u001b[1;33m.\u001b[0m\u001b[0mMatrix\u001b[0m\u001b[1;33m(\u001b[0m\u001b[0mx\u001b[0m\u001b[1;33m)\u001b[0m\u001b[1;33m\u001b[0m\u001b[1;33m\u001b[0m\u001b[0m\n\u001b[0m\u001b[0;32m      3\u001b[0m \u001b[0mm_rref\u001b[0m \u001b[1;33m,\u001b[0m \u001b[0mn\u001b[0m \u001b[1;33m=\u001b[0m \u001b[0mm\u001b[0m\u001b[1;33m.\u001b[0m\u001b[0mrref\u001b[0m\u001b[1;33m(\u001b[0m\u001b[1;33m)\u001b[0m\u001b[1;33m\u001b[0m\u001b[1;33m\u001b[0m\u001b[0m\n\u001b[0;32m      4\u001b[0m \u001b[0mprint\u001b[0m\u001b[1;33m(\u001b[0m\u001b[0mn\u001b[0m\u001b[1;33m)\u001b[0m\u001b[1;33m\u001b[0m\u001b[1;33m\u001b[0m\u001b[0m\n\u001b[0;32m      5\u001b[0m \u001b[0mprint\u001b[0m\u001b[1;33m(\u001b[0m\u001b[0mm_rref\u001b[0m\u001b[1;33m)\u001b[0m\u001b[1;33m\u001b[0m\u001b[1;33m\u001b[0m\u001b[0m\n",
      "\u001b[1;31mNameError\u001b[0m: name 'x' is not defined"
     ]
    }
   ],
   "source": [
    "import sympy\n",
    "m = sympy.Matrix(x)\n",
    "m_rref , n = m.rref()\n",
    "print(n)\n",
    "print(m_rref)"
   ]
  },
  {
   "cell_type": "code",
   "execution_count": 6,
   "metadata": {},
   "outputs": [
    {
     "data": {
      "text/latex": [
       "$\\displaystyle \\left[\\begin{matrix}1 & 0 & 0\\\\0 & 1 & 0\\\\0 & 0 & 1\\end{matrix}\\right]$"
      ],
      "text/plain": [
       "Matrix([\n",
       "[1, 0, 0],\n",
       "[0, 1, 0],\n",
       "[0, 0, 1]])"
      ]
     },
     "execution_count": 6,
     "metadata": {},
     "output_type": "execute_result"
    }
   ],
   "source": [
    "m_rref"
   ]
  },
  {
   "cell_type": "code",
   "execution_count": 7,
   "metadata": {},
   "outputs": [
    {
     "data": {
      "text/plain": [
       "matrix([[-0.22222222,  0.44444444,  0.33333333],\n",
       "        [ 0.55555556, -0.11111111, -0.33333333],\n",
       "        [ 0.88888889, -0.77777778, -0.33333333]])"
      ]
     },
     "execution_count": 7,
     "metadata": {},
     "output_type": "execute_result"
    }
   ],
   "source": [
    "x.I   ## matrix inverse"
   ]
  },
  {
   "cell_type": "code",
   "execution_count": null,
   "metadata": {},
   "outputs": [],
   "source": []
  },
  {
   "cell_type": "code",
   "execution_count": null,
   "metadata": {},
   "outputs": [],
   "source": []
  },
  {
   "cell_type": "markdown",
   "metadata": {},
   "source": [
    "A = [[1,-1],[2,4]],\n",
    "\n",
    "B = [[0,2],[1,3]],\n",
    "\n",
    "C = [[1,2],[3,4]] are 2 x 2 matrices, i.e. 1 -1 is first row and 2 4 is second row etc.\n",
    "\n",
    "\n",
    "a)Calculate A + B = [[1 , 1] , [3 , 7]]\n",
    "\n",
    "b)Calculate A – C = [[0 ,-3],[-1 , 0]]\n",
    "\n",
    "c)Calculate AT = [[1 , 2 ],[-1,4]]\n",
    "\n",
    "d)Calculate A.A-1 \n",
    "\n",
    "e)Calculate |A| = 4 + 2 = 6\n",
    "\n",
    "f)Calculate Adjoint A = [[-4,-1],[2,-1]]\n",
    "\n",
    "\n",
    "g)Calculate A-1 = ([[-2/3 ,-1/6] ,[1/3 , -1/6]]\n",
    "\n",
    "h)Verify if AB = BA   AB!= BA\n",
    "\n",
    "i)Verify if ABC = ACB\n"
   ]
  },
  {
   "cell_type": "code",
   "execution_count": 8,
   "metadata": {},
   "outputs": [],
   "source": [
    "A = np.mat(np.array([[1,-1],[2,4]]))\n",
    "B =np.mat(np.array([[0,2],[1,3]]))\n",
    "C = np.mat(np.array([[1,2],[3,4]]))"
   ]
  },
  {
   "cell_type": "code",
   "execution_count": 9,
   "metadata": {},
   "outputs": [
    {
     "name": "stdout",
     "output_type": "stream",
     "text": [
      "[[ 1 -1]\n",
      " [ 2  4]]\n",
      "\n",
      "[[0 2]\n",
      " [1 3]]\n",
      "\n",
      "[[1 2]\n",
      " [3 4]]\n"
     ]
    }
   ],
   "source": [
    "print(A)\n",
    "print('')\n",
    "print(B)\n",
    "print('')\n",
    "print(C)"
   ]
  },
  {
   "cell_type": "code",
   "execution_count": 10,
   "metadata": {},
   "outputs": [
    {
     "name": "stdout",
     "output_type": "stream",
     "text": [
      "[[1 1]\n",
      " [3 7]]\n",
      "\n",
      "[[ 0 -3]\n",
      " [-1  0]]\n",
      "\n",
      "[[ 1  2]\n",
      " [-1  4]]\n"
     ]
    }
   ],
   "source": [
    "print(A + B)\n",
    "print('')\n",
    "print(A-C)\n",
    "print('')\n",
    "print(A.T)\n"
   ]
  },
  {
   "cell_type": "code",
   "execution_count": 11,
   "metadata": {},
   "outputs": [
    {
     "data": {
      "text/plain": [
       "matrix([[1.00000000e+00, 2.77555756e-17],\n",
       "        [0.00000000e+00, 1.00000000e+00]])"
      ]
     },
     "execution_count": 11,
     "metadata": {},
     "output_type": "execute_result"
    }
   ],
   "source": [
    "A@A.I\n",
    "\n",
    "## can't we use round(A@A.I)"
   ]
  },
  {
   "cell_type": "code",
   "execution_count": 12,
   "metadata": {},
   "outputs": [
    {
     "data": {
      "text/plain": [
       "matrix([[ 0.66666667,  0.16666667],\n",
       "        [-0.33333333,  0.16666667]])"
      ]
     },
     "execution_count": 12,
     "metadata": {},
     "output_type": "execute_result"
    }
   ],
   "source": [
    "A.I"
   ]
  },
  {
   "cell_type": "code",
   "execution_count": 13,
   "metadata": {
    "scrolled": true
   },
   "outputs": [
    {
     "name": "stdout",
     "output_type": "stream",
     "text": [
      "6.0\n",
      "-2.0\n",
      "-2.0000000000000004\n"
     ]
    }
   ],
   "source": [
    "A.det = np.linalg.det(A)\n",
    "print(A.det)\n",
    "print(np.linalg.det(B))\n",
    "print(np.linalg.det(C))"
   ]
  },
  {
   "cell_type": "code",
   "execution_count": 14,
   "metadata": {},
   "outputs": [],
   "source": [
    "adjA = A.det*A.I   "
   ]
  },
  {
   "cell_type": "markdown",
   "metadata": {},
   "source": [
    "### we know that \n",
    "### A.inv = 1/A.det x (adj(A))  so use same to calculate adjoint so Adj[A] = A.det x A.inv "
   ]
  },
  {
   "cell_type": "code",
   "execution_count": 15,
   "metadata": {},
   "outputs": [],
   "source": [
    "AdjA = A.I * A.det"
   ]
  },
  {
   "cell_type": "code",
   "execution_count": null,
   "metadata": {},
   "outputs": [],
   "source": []
  },
  {
   "cell_type": "code",
   "execution_count": 16,
   "metadata": {},
   "outputs": [
    {
     "name": "stdout",
     "output_type": "stream",
     "text": [
      "[[-1 -1]\n",
      " [ 4 16]]\n",
      "\n",
      "[[ 4  8]\n",
      " [ 7 11]]\n"
     ]
    }
   ],
   "source": [
    "x = A@B\n",
    "\n",
    "y = B@A\n",
    "print(x)\n",
    "print('')\n",
    "print(y)\n",
    "\n"
   ]
  },
  {
   "cell_type": "markdown",
   "metadata": {},
   "source": [
    "### so AB is not equal to BA"
   ]
  },
  {
   "cell_type": "code",
   "execution_count": 17,
   "metadata": {},
   "outputs": [
    {
     "data": {
      "text/plain": [
       "matrix([[-4, -6],\n",
       "        [52, 72]])"
      ]
     },
     "execution_count": 17,
     "metadata": {},
     "output_type": "execute_result"
    }
   ],
   "source": [
    "A@B@C"
   ]
  },
  {
   "cell_type": "code",
   "execution_count": 18,
   "metadata": {},
   "outputs": [
    {
     "data": {
      "text/plain": [
       "matrix([[-4, -6],\n",
       "        [52, 72]])"
      ]
     },
     "execution_count": 18,
     "metadata": {},
     "output_type": "execute_result"
    }
   ],
   "source": [
    "x@C   ## se both gives same result."
   ]
  },
  {
   "cell_type": "code",
   "execution_count": 19,
   "metadata": {},
   "outputs": [
    {
     "data": {
      "text/plain": [
       "matrix([[ -2, -10],\n",
       "        [ 20,  88]])"
      ]
     },
     "execution_count": 19,
     "metadata": {},
     "output_type": "execute_result"
    }
   ],
   "source": [
    "A@C@B"
   ]
  },
  {
   "cell_type": "markdown",
   "metadata": {},
   "source": [
    "### so ABC is not equal to ACB"
   ]
  },
  {
   "cell_type": "code",
   "execution_count": 20,
   "metadata": {},
   "outputs": [
    {
     "data": {
      "text/plain": [
       "matrix([[ 4,  1],\n",
       "        [-2,  1]])"
      ]
     },
     "execution_count": 20,
     "metadata": {},
     "output_type": "execute_result"
    }
   ],
   "source": [
    "t = np.mat(np.array([[4,1],[-2,1]]))\n",
    "t"
   ]
  },
  {
   "cell_type": "code",
   "execution_count": 21,
   "metadata": {},
   "outputs": [
    {
     "data": {
      "text/plain": [
       "matrix([[ 0.16666667, -0.16666667],\n",
       "        [ 0.33333333,  0.66666667]])"
      ]
     },
     "execution_count": 21,
     "metadata": {},
     "output_type": "execute_result"
    }
   ],
   "source": [
    "t.I"
   ]
  },
  {
   "cell_type": "code",
   "execution_count": 22,
   "metadata": {},
   "outputs": [
    {
     "data": {
      "text/plain": [
       "6.0"
      ]
     },
     "execution_count": 22,
     "metadata": {},
     "output_type": "execute_result"
    }
   ],
   "source": [
    "D = np.linalg.det(t)\n",
    "D"
   ]
  },
  {
   "cell_type": "code",
   "execution_count": 23,
   "metadata": {},
   "outputs": [
    {
     "data": {
      "text/plain": [
       "matrix([[ 1., -1.],\n",
       "        [ 2.,  4.]])"
      ]
     },
     "execution_count": 23,
     "metadata": {},
     "output_type": "execute_result"
    }
   ],
   "source": [
    "D*t.I"
   ]
  },
  {
   "cell_type": "code",
   "execution_count": 24,
   "metadata": {},
   "outputs": [
    {
     "data": {
      "text/plain": [
       "matrix([[ 2, -2],\n",
       "        [ 4,  3]])"
      ]
     },
     "execution_count": 24,
     "metadata": {},
     "output_type": "execute_result"
    }
   ],
   "source": [
    "p =  np.mat(np.array([[2,-2],[4,3]]))\n",
    "\n",
    "pdt = np.linalg.det(p)\n",
    "p"
   ]
  },
  {
   "cell_type": "code",
   "execution_count": 25,
   "metadata": {},
   "outputs": [
    {
     "data": {
      "text/plain": [
       "matrix([[ 3.,  2.],\n",
       "        [-4.,  2.]])"
      ]
     },
     "execution_count": 25,
     "metadata": {},
     "output_type": "execute_result"
    }
   ],
   "source": [
    "adjp = p.I*pdt\n",
    "adjp"
   ]
  },
  {
   "cell_type": "markdown",
   "metadata": {},
   "source": [
    "1)ystems of equations are solved by applying these rules. \n",
    "\n",
    "If |A| !=0, then consistent and unique solutions\n",
    "\n",
    "•If |A|=0 and \n",
    "\n",
    "•(Adj A) B = 0, then consistent and has infinite solutions\n",
    "\n",
    "•(Adj A) B != 0, then inconsistent \n",
    "\n",
    "•Use them to classify the following systems of equations."
   ]
  },
  {
   "cell_type": "code",
   "execution_count": null,
   "metadata": {},
   "outputs": [],
   "source": []
  },
  {
   "cell_type": "markdown",
   "metadata": {},
   "source": [
    "2x - 3y = 5\n",
    "\n",
    "4x - 6y = 10"
   ]
  },
  {
   "cell_type": "code",
   "execution_count": 26,
   "metadata": {},
   "outputs": [
    {
     "data": {
      "text/plain": [
       "matrix([[ 2, -3],\n",
       "        [ 4, -6]])"
      ]
     },
     "execution_count": 26,
     "metadata": {},
     "output_type": "execute_result"
    }
   ],
   "source": [
    "a = np.mat(np.array([[2,-3],[4,-6]]))\n",
    "a"
   ]
  },
  {
   "cell_type": "code",
   "execution_count": 27,
   "metadata": {},
   "outputs": [
    {
     "data": {
      "text/plain": [
       "0.0"
      ]
     },
     "execution_count": 27,
     "metadata": {},
     "output_type": "execute_result"
    }
   ],
   "source": [
    "det_a = np.linalg.det(a)\n",
    "det_a"
   ]
  },
  {
   "cell_type": "code",
   "execution_count": 28,
   "metadata": {},
   "outputs": [
    {
     "ename": "LinAlgError",
     "evalue": "Singular matrix",
     "output_type": "error",
     "traceback": [
      "\u001b[1;31m---------------------------------------------------------------------------\u001b[0m",
      "\u001b[1;31mLinAlgError\u001b[0m                               Traceback (most recent call last)",
      "\u001b[1;32m<ipython-input-28-356642119123>\u001b[0m in \u001b[0;36m<module>\u001b[1;34m\u001b[0m\n\u001b[1;32m----> 1\u001b[1;33m \u001b[0ma\u001b[0m\u001b[1;33m.\u001b[0m\u001b[0mI\u001b[0m \u001b[1;31m## this will show error of det.a is zero so inverse is zero\u001b[0m\u001b[1;33m\u001b[0m\u001b[1;33m\u001b[0m\u001b[0m\n\u001b[0m",
      "\u001b[1;32mC:\\ProgramData\\Anaconda3\\lib\\site-packages\\numpy\\matrixlib\\defmatrix.py\u001b[0m in \u001b[0;36mI\u001b[1;34m(self)\u001b[0m\n\u001b[0;32m    835\u001b[0m         \u001b[1;32melse\u001b[0m\u001b[1;33m:\u001b[0m\u001b[1;33m\u001b[0m\u001b[1;33m\u001b[0m\u001b[0m\n\u001b[0;32m    836\u001b[0m             \u001b[1;32mfrom\u001b[0m \u001b[0mnumpy\u001b[0m\u001b[1;33m.\u001b[0m\u001b[0mdual\u001b[0m \u001b[1;32mimport\u001b[0m \u001b[0mpinv\u001b[0m \u001b[1;32mas\u001b[0m \u001b[0mfunc\u001b[0m\u001b[1;33m\u001b[0m\u001b[1;33m\u001b[0m\u001b[0m\n\u001b[1;32m--> 837\u001b[1;33m         \u001b[1;32mreturn\u001b[0m \u001b[0masmatrix\u001b[0m\u001b[1;33m(\u001b[0m\u001b[0mfunc\u001b[0m\u001b[1;33m(\u001b[0m\u001b[0mself\u001b[0m\u001b[1;33m)\u001b[0m\u001b[1;33m)\u001b[0m\u001b[1;33m\u001b[0m\u001b[1;33m\u001b[0m\u001b[0m\n\u001b[0m\u001b[0;32m    838\u001b[0m \u001b[1;33m\u001b[0m\u001b[0m\n\u001b[0;32m    839\u001b[0m     \u001b[1;33m@\u001b[0m\u001b[0mproperty\u001b[0m\u001b[1;33m\u001b[0m\u001b[1;33m\u001b[0m\u001b[0m\n",
      "\u001b[1;32m<__array_function__ internals>\u001b[0m in \u001b[0;36minv\u001b[1;34m(*args, **kwargs)\u001b[0m\n",
      "\u001b[1;32mC:\\ProgramData\\Anaconda3\\lib\\site-packages\\numpy\\linalg\\linalg.py\u001b[0m in \u001b[0;36minv\u001b[1;34m(a)\u001b[0m\n\u001b[0;32m    545\u001b[0m     \u001b[0msignature\u001b[0m \u001b[1;33m=\u001b[0m \u001b[1;34m'D->D'\u001b[0m \u001b[1;32mif\u001b[0m \u001b[0misComplexType\u001b[0m\u001b[1;33m(\u001b[0m\u001b[0mt\u001b[0m\u001b[1;33m)\u001b[0m \u001b[1;32melse\u001b[0m \u001b[1;34m'd->d'\u001b[0m\u001b[1;33m\u001b[0m\u001b[1;33m\u001b[0m\u001b[0m\n\u001b[0;32m    546\u001b[0m     \u001b[0mextobj\u001b[0m \u001b[1;33m=\u001b[0m \u001b[0mget_linalg_error_extobj\u001b[0m\u001b[1;33m(\u001b[0m\u001b[0m_raise_linalgerror_singular\u001b[0m\u001b[1;33m)\u001b[0m\u001b[1;33m\u001b[0m\u001b[1;33m\u001b[0m\u001b[0m\n\u001b[1;32m--> 547\u001b[1;33m     \u001b[0mainv\u001b[0m \u001b[1;33m=\u001b[0m \u001b[0m_umath_linalg\u001b[0m\u001b[1;33m.\u001b[0m\u001b[0minv\u001b[0m\u001b[1;33m(\u001b[0m\u001b[0ma\u001b[0m\u001b[1;33m,\u001b[0m \u001b[0msignature\u001b[0m\u001b[1;33m=\u001b[0m\u001b[0msignature\u001b[0m\u001b[1;33m,\u001b[0m \u001b[0mextobj\u001b[0m\u001b[1;33m=\u001b[0m\u001b[0mextobj\u001b[0m\u001b[1;33m)\u001b[0m\u001b[1;33m\u001b[0m\u001b[1;33m\u001b[0m\u001b[0m\n\u001b[0m\u001b[0;32m    548\u001b[0m     \u001b[1;32mreturn\u001b[0m \u001b[0mwrap\u001b[0m\u001b[1;33m(\u001b[0m\u001b[0mainv\u001b[0m\u001b[1;33m.\u001b[0m\u001b[0mastype\u001b[0m\u001b[1;33m(\u001b[0m\u001b[0mresult_t\u001b[0m\u001b[1;33m,\u001b[0m \u001b[0mcopy\u001b[0m\u001b[1;33m=\u001b[0m\u001b[1;32mFalse\u001b[0m\u001b[1;33m)\u001b[0m\u001b[1;33m)\u001b[0m\u001b[1;33m\u001b[0m\u001b[1;33m\u001b[0m\u001b[0m\n\u001b[0;32m    549\u001b[0m \u001b[1;33m\u001b[0m\u001b[0m\n",
      "\u001b[1;32mC:\\ProgramData\\Anaconda3\\lib\\site-packages\\numpy\\linalg\\linalg.py\u001b[0m in \u001b[0;36m_raise_linalgerror_singular\u001b[1;34m(err, flag)\u001b[0m\n\u001b[0;32m     95\u001b[0m \u001b[1;33m\u001b[0m\u001b[0m\n\u001b[0;32m     96\u001b[0m \u001b[1;32mdef\u001b[0m \u001b[0m_raise_linalgerror_singular\u001b[0m\u001b[1;33m(\u001b[0m\u001b[0merr\u001b[0m\u001b[1;33m,\u001b[0m \u001b[0mflag\u001b[0m\u001b[1;33m)\u001b[0m\u001b[1;33m:\u001b[0m\u001b[1;33m\u001b[0m\u001b[1;33m\u001b[0m\u001b[0m\n\u001b[1;32m---> 97\u001b[1;33m     \u001b[1;32mraise\u001b[0m \u001b[0mLinAlgError\u001b[0m\u001b[1;33m(\u001b[0m\u001b[1;34m\"Singular matrix\"\u001b[0m\u001b[1;33m)\u001b[0m\u001b[1;33m\u001b[0m\u001b[1;33m\u001b[0m\u001b[0m\n\u001b[0m\u001b[0;32m     98\u001b[0m \u001b[1;33m\u001b[0m\u001b[0m\n\u001b[0;32m     99\u001b[0m \u001b[1;32mdef\u001b[0m \u001b[0m_raise_linalgerror_nonposdef\u001b[0m\u001b[1;33m(\u001b[0m\u001b[0merr\u001b[0m\u001b[1;33m,\u001b[0m \u001b[0mflag\u001b[0m\u001b[1;33m)\u001b[0m\u001b[1;33m:\u001b[0m\u001b[1;33m\u001b[0m\u001b[1;33m\u001b[0m\u001b[0m\n",
      "\u001b[1;31mLinAlgError\u001b[0m: Singular matrix"
     ]
    }
   ],
   "source": [
    "a.I ## this will show error of det.a is zero so inverse is zero"
   ]
  },
  {
   "cell_type": "markdown",
   "metadata": {},
   "source": [
    "3)Following are some properties of matrices. Use 2x2 matrices and verify these using Python. Watch out, there could be some typos so when results do not match try to work out with both methods and be sure.\n",
    "\n",
    "a)(AT)T = A\n",
    "\n",
    "b)(A-1)-1 = A\n",
    "\n",
    "c)(AB)-1  NOT EQUAL TO A-1 B-1\n",
    "\n",
    "  (AB)-1   EQUAL TO B-1 A-1\n",
    "\n",
    "d)(AB)T = BTAT YES IT IS EQUAL\n",
    "\n",
    "e)(A + B)T = AT + BT  YES IT IS EQUAL\n",
    "\n",
    "f)(AT) -1 = (A-1)T   YES IT IS EQUAL\n",
    "\n",
    "g)A(Adjoint A) = (Adjoint A) A   YES IT IS EQUAL\n",
    "\n",
    "h)A-1 = (1/Determinant of A) * Adjoint A   YES IT IS EQUAL TO"
   ]
  },
  {
   "cell_type": "code",
   "execution_count": 64,
   "metadata": {},
   "outputs": [
    {
     "data": {
      "text/plain": [
       "matrix([[ 1, -1],\n",
       "        [ 2,  4]])"
      ]
     },
     "execution_count": 64,
     "metadata": {},
     "output_type": "execute_result"
    }
   ],
   "source": [
    "A.T.T"
   ]
  },
  {
   "cell_type": "code",
   "execution_count": 32,
   "metadata": {},
   "outputs": [
    {
     "data": {
      "text/plain": [
       "matrix([[ 1, -1],\n",
       "        [ 2,  4]])"
      ]
     },
     "execution_count": 32,
     "metadata": {},
     "output_type": "execute_result"
    }
   ],
   "source": [
    "A"
   ]
  },
  {
   "cell_type": "code",
   "execution_count": 63,
   "metadata": {},
   "outputs": [
    {
     "data": {
      "text/plain": [
       "matrix([[ 1., -1.],\n",
       "        [ 2.,  4.]])"
      ]
     },
     "execution_count": 63,
     "metadata": {},
     "output_type": "execute_result"
    }
   ],
   "source": [
    "A.I.I"
   ]
  },
  {
   "cell_type": "code",
   "execution_count": 34,
   "metadata": {
    "scrolled": true
   },
   "outputs": [
    {
     "data": {
      "text/plain": [
       "matrix([[-1.33333333, -0.08333333],\n",
       "        [ 0.33333333,  0.08333333]])"
      ]
     },
     "execution_count": 34,
     "metadata": {},
     "output_type": "execute_result"
    }
   ],
   "source": [
    "(A@B).I"
   ]
  },
  {
   "cell_type": "code",
   "execution_count": 62,
   "metadata": {},
   "outputs": [
    {
     "data": {
      "text/plain": [
       "matrix([[-1.33333333, -0.08333333],\n",
       "        [ 0.33333333,  0.08333333]])"
      ]
     },
     "execution_count": 62,
     "metadata": {},
     "output_type": "execute_result"
    }
   ],
   "source": [
    "B.I@A.I"
   ]
  },
  {
   "cell_type": "code",
   "execution_count": 41,
   "metadata": {},
   "outputs": [
    {
     "data": {
      "text/plain": [
       "matrix([[-1,  4],\n",
       "        [-1, 16]])"
      ]
     },
     "execution_count": 41,
     "metadata": {},
     "output_type": "execute_result"
    }
   ],
   "source": [
    "(A@B).T"
   ]
  },
  {
   "cell_type": "code",
   "execution_count": 42,
   "metadata": {},
   "outputs": [
    {
     "data": {
      "text/plain": [
       "matrix([[-1,  4],\n",
       "        [-1, 16]])"
      ]
     },
     "execution_count": 42,
     "metadata": {},
     "output_type": "execute_result"
    }
   ],
   "source": [
    "B.T@A.T"
   ]
  },
  {
   "cell_type": "code",
   "execution_count": 43,
   "metadata": {},
   "outputs": [
    {
     "data": {
      "text/plain": [
       "matrix([[ 0.66666667, -0.33333333],\n",
       "        [ 0.16666667,  0.16666667]])"
      ]
     },
     "execution_count": 43,
     "metadata": {},
     "output_type": "execute_result"
    }
   ],
   "source": [
    "(A.T).I"
   ]
  },
  {
   "cell_type": "code",
   "execution_count": 44,
   "metadata": {},
   "outputs": [
    {
     "data": {
      "text/plain": [
       "matrix([[ 0.66666667, -0.33333333],\n",
       "        [ 0.16666667,  0.16666667]])"
      ]
     },
     "execution_count": 44,
     "metadata": {},
     "output_type": "execute_result"
    }
   ],
   "source": [
    "(A.I).T"
   ]
  },
  {
   "cell_type": "code",
   "execution_count": 45,
   "metadata": {},
   "outputs": [
    {
     "data": {
      "text/plain": [
       "matrix([[1, 3],\n",
       "        [1, 7]])"
      ]
     },
     "execution_count": 45,
     "metadata": {},
     "output_type": "execute_result"
    }
   ],
   "source": [
    "(A + B).T"
   ]
  },
  {
   "cell_type": "code",
   "execution_count": 46,
   "metadata": {},
   "outputs": [
    {
     "data": {
      "text/plain": [
       "matrix([[1, 3],\n",
       "        [1, 7]])"
      ]
     },
     "execution_count": 46,
     "metadata": {},
     "output_type": "execute_result"
    }
   ],
   "source": [
    "A.T + B.T"
   ]
  },
  {
   "cell_type": "code",
   "execution_count": null,
   "metadata": {},
   "outputs": [],
   "source": [
    "x = Matrix(q).adjugate()\n",
    "x"
   ]
  },
  {
   "cell_type": "code",
   "execution_count": 48,
   "metadata": {},
   "outputs": [],
   "source": [
    "import sympy\n",
    "from sympy import *"
   ]
  },
  {
   "cell_type": "code",
   "execution_count": 50,
   "metadata": {},
   "outputs": [
    {
     "data": {
      "text/latex": [
       "$\\displaystyle \\left[\\begin{matrix}4 & 1\\\\-2 & 1\\end{matrix}\\right]$"
      ],
      "text/plain": [
       "Matrix([\n",
       "[ 4, 1],\n",
       "[-2, 1]])"
      ]
     },
     "execution_count": 50,
     "metadata": {},
     "output_type": "execute_result"
    }
   ],
   "source": [
    "adjA = Matrix(A).adjugate()\n",
    "adjA"
   ]
  },
  {
   "cell_type": "code",
   "execution_count": 51,
   "metadata": {},
   "outputs": [
    {
     "data": {
      "text/latex": [
       "$\\displaystyle \\left[\\begin{matrix}6 & 0\\\\0 & 6\\end{matrix}\\right]$"
      ],
      "text/plain": [
       "Matrix([\n",
       "[6, 0],\n",
       "[0, 6]])"
      ]
     },
     "execution_count": 51,
     "metadata": {},
     "output_type": "execute_result"
    }
   ],
   "source": [
    "A @ adjA"
   ]
  },
  {
   "cell_type": "code",
   "execution_count": 52,
   "metadata": {},
   "outputs": [
    {
     "data": {
      "text/latex": [
       "$\\displaystyle \\left[\\begin{matrix}6 & 0\\\\0 & 6\\end{matrix}\\right]$"
      ],
      "text/plain": [
       "Matrix([\n",
       "[6, 0],\n",
       "[0, 6]])"
      ]
     },
     "execution_count": 52,
     "metadata": {},
     "output_type": "execute_result"
    }
   ],
   "source": [
    "adjA @ A"
   ]
  },
  {
   "cell_type": "code",
   "execution_count": 53,
   "metadata": {
    "scrolled": true
   },
   "outputs": [
    {
     "data": {
      "text/plain": [
       "matrix([[ 0.66666667,  0.16666667],\n",
       "        [-0.33333333,  0.16666667]])"
      ]
     },
     "execution_count": 53,
     "metadata": {},
     "output_type": "execute_result"
    }
   ],
   "source": [
    "A.I"
   ]
  },
  {
   "cell_type": "code",
   "execution_count": 61,
   "metadata": {},
   "outputs": [
    {
     "data": {
      "text/plain": [
       "6.0"
      ]
     },
     "execution_count": 61,
     "metadata": {},
     "output_type": "execute_result"
    }
   ],
   "source": [
    "det_A = np.linalg.det(A)\n",
    "det_A"
   ]
  },
  {
   "cell_type": "code",
   "execution_count": 60,
   "metadata": {},
   "outputs": [
    {
     "data": {
      "text/latex": [
       "$\\displaystyle \\left[\\begin{matrix}0.666666666666667 & 0.166666666666667\\\\-0.333333333333333 & 0.166666666666667\\end{matrix}\\right]$"
      ],
      "text/plain": [
       "Matrix([\n",
       "[ 0.666666666666667, 0.166666666666667],\n",
       "[-0.333333333333333, 0.166666666666667]])"
      ]
     },
     "execution_count": 60,
     "metadata": {},
     "output_type": "execute_result"
    }
   ],
   "source": [
    "(1/det_A)*adjA"
   ]
  },
  {
   "cell_type": "code",
   "execution_count": null,
   "metadata": {},
   "outputs": [],
   "source": []
  },
  {
   "cell_type": "markdown",
   "metadata": {},
   "source": [
    "4)Create a matrix M with order 3x3 and using sequence of numbers 1,2,3...9. In M, get the Minor and Cofactors of 2. Note: there may not be a method for this and you may have to use subset techniques in numpy the matrix."
   ]
  },
  {
   "cell_type": "code",
   "execution_count": null,
   "metadata": {},
   "outputs": [],
   "source": []
  },
  {
   "cell_type": "code",
   "execution_count": null,
   "metadata": {},
   "outputs": [],
   "source": []
  },
  {
   "cell_type": "code",
   "execution_count": null,
   "metadata": {},
   "outputs": [],
   "source": []
  },
  {
   "cell_type": "code",
   "execution_count": null,
   "metadata": {},
   "outputs": [],
   "source": []
  },
  {
   "cell_type": "markdown",
   "metadata": {},
   "source": [
    "\n",
    "\n",
    "5)Create a matrix of 3x3 using 1,2,3..6 and the last row has 9,9,9. Verify the determinant is zero."
   ]
  },
  {
   "cell_type": "code",
   "execution_count": 65,
   "metadata": {},
   "outputs": [],
   "source": [
    "d = np.array([1,2,3,4,5,6,9,9,9])\n"
   ]
  },
  {
   "cell_type": "code",
   "execution_count": 72,
   "metadata": {},
   "outputs": [
    {
     "data": {
      "text/plain": [
       "matrix([[1, 2, 3],\n",
       "        [4, 5, 6],\n",
       "        [9, 9, 9]])"
      ]
     },
     "execution_count": 72,
     "metadata": {},
     "output_type": "execute_result"
    }
   ],
   "source": [
    "d0 = np.mat(d.reshape(3,3))\n",
    "d0\n"
   ]
  },
  {
   "cell_type": "code",
   "execution_count": 73,
   "metadata": {},
   "outputs": [
    {
     "data": {
      "text/plain": [
       "-0.0"
      ]
     },
     "execution_count": 73,
     "metadata": {},
     "output_type": "execute_result"
    }
   ],
   "source": [
    "det = np.linalg.det(d0)\n",
    "round(det)"
   ]
  },
  {
   "cell_type": "code",
   "execution_count": 74,
   "metadata": {},
   "outputs": [
    {
     "data": {
      "text/plain": [
       "-3.996802888650562e-15"
      ]
     },
     "execution_count": 74,
     "metadata": {},
     "output_type": "execute_result"
    }
   ],
   "source": [
    "det"
   ]
  },
  {
   "cell_type": "markdown",
   "metadata": {},
   "source": [
    "6)Verify that det(AB) = det(A)*det(B) \n",
    "\n",
    "yes it is equal"
   ]
  },
  {
   "cell_type": "code",
   "execution_count": 75,
   "metadata": {},
   "outputs": [],
   "source": [
    "det_B = np.linalg.det(B)"
   ]
  },
  {
   "cell_type": "code",
   "execution_count": 77,
   "metadata": {},
   "outputs": [
    {
     "data": {
      "text/plain": [
       "-12.0"
      ]
     },
     "execution_count": 77,
     "metadata": {},
     "output_type": "execute_result"
    }
   ],
   "source": [
    "det_AB = np.linalg.det(A@B)\n",
    "det_AB"
   ]
  },
  {
   "cell_type": "code",
   "execution_count": 78,
   "metadata": {},
   "outputs": [
    {
     "data": {
      "text/plain": [
       "-12.0"
      ]
     },
     "execution_count": 78,
     "metadata": {},
     "output_type": "execute_result"
    }
   ],
   "source": [
    "det_A*det_B"
   ]
  },
  {
   "cell_type": "markdown",
   "metadata": {},
   "source": [
    "7)Given VT = [1,2] and B is a 2x2 = [[0,2],[1,3]]\n",
    "\n",
    "Multiply and check the order of the results of VxB and BxV"
   ]
  },
  {
   "cell_type": "code",
   "execution_count": 81,
   "metadata": {},
   "outputs": [
    {
     "data": {
      "text/plain": [
       "matrix([[1, 2]])"
      ]
     },
     "execution_count": 81,
     "metadata": {},
     "output_type": "execute_result"
    }
   ],
   "source": [
    "V =np.mat([1,2])\n",
    "V"
   ]
  },
  {
   "cell_type": "code",
   "execution_count": 84,
   "metadata": {},
   "outputs": [
    {
     "data": {
      "text/plain": [
       "matrix([[0, 2],\n",
       "        [1, 3]])"
      ]
     },
     "execution_count": 84,
     "metadata": {},
     "output_type": "execute_result"
    }
   ],
   "source": [
    "B = np.mat([[0,2],[1,3]])\n",
    "B"
   ]
  },
  {
   "cell_type": "code",
   "execution_count": 85,
   "metadata": {},
   "outputs": [
    {
     "data": {
      "text/plain": [
       "matrix([[2, 8]])"
      ]
     },
     "execution_count": 85,
     "metadata": {},
     "output_type": "execute_result"
    }
   ],
   "source": [
    "V@B"
   ]
  },
  {
   "cell_type": "code",
   "execution_count": 86,
   "metadata": {},
   "outputs": [
    {
     "ename": "ValueError",
     "evalue": "matmul: Input operand 1 has a mismatch in its core dimension 0, with gufunc signature (n?,k),(k,m?)->(n?,m?) (size 1 is different from 2)",
     "output_type": "error",
     "traceback": [
      "\u001b[1;31m---------------------------------------------------------------------------\u001b[0m",
      "\u001b[1;31mValueError\u001b[0m                                Traceback (most recent call last)",
      "\u001b[1;32m<ipython-input-86-0d03935876cb>\u001b[0m in \u001b[0;36m<module>\u001b[1;34m\u001b[0m\n\u001b[1;32m----> 1\u001b[1;33m \u001b[0mB\u001b[0m\u001b[1;33m@\u001b[0m\u001b[0mV\u001b[0m\u001b[1;33m\u001b[0m\u001b[1;33m\u001b[0m\u001b[0m\n\u001b[0m",
      "\u001b[1;31mValueError\u001b[0m: matmul: Input operand 1 has a mismatch in its core dimension 0, with gufunc signature (n?,k),(k,m?)->(n?,m?) (size 1 is different from 2)"
     ]
    }
   ],
   "source": [
    "B@V   ## IT WILL NOT ALLOW BECAUSE SHAPE DOES NOT MATCH"
   ]
  },
  {
   "cell_type": "markdown",
   "metadata": {},
   "source": [
    "2)Matrix A (3x3) has the following three rows [1,6,3], [5,2,4],[7,0,8]. Hand calculate these.\n",
    "a)What is the Minor of 7?   18\n",
    "\n",
    "b)What is the cofactor of 7?  18\n",
    "\n",
    "c)Verify that the determinant is same when row 1 is expanded as column 1 is expended.  Both cases -98 , - 98\n",
    "\n",
    "d)If row 1 is multiplied by 2 i.e. it is now [2,12,6] applying conceptual knowledge what do you now expect as determinant? Verify by calculating using Python. -196 det got twice \n",
    "\n",
    "e)If all the rows were "
   ]
  },
  {
   "cell_type": "code",
   "execution_count": 87,
   "metadata": {},
   "outputs": [
    {
     "data": {
      "text/plain": [
       "matrix([[1, 6, 3],\n",
       "        [5, 2, 4],\n",
       "        [7, 0, 8]])"
      ]
     },
     "execution_count": 87,
     "metadata": {},
     "output_type": "execute_result"
    }
   ],
   "source": [
    "w = np.mat([[1,6,3],[5,2,4],[7,0,8]])\n",
    "w"
   ]
  },
  {
   "cell_type": "code",
   "execution_count": null,
   "metadata": {},
   "outputs": [],
   "source": []
  },
  {
   "cell_type": "code",
   "execution_count": null,
   "metadata": {},
   "outputs": [],
   "source": []
  },
  {
   "cell_type": "code",
   "execution_count": null,
   "metadata": {},
   "outputs": [],
   "source": []
  },
  {
   "cell_type": "markdown",
   "metadata": {},
   "source": [
    "## Systematic practice MML"
   ]
  },
  {
   "cell_type": "code",
   "execution_count": 2,
   "metadata": {},
   "outputs": [],
   "source": [
    "import numpy as np\n",
    "import random\n",
    "from sympy import Matrix"
   ]
  },
  {
   "cell_type": "code",
   "execution_count": 3,
   "metadata": {},
   "outputs": [
    {
     "name": "stdout",
     "output_type": "stream",
     "text": [
      "Matrix:\n",
      " [[ 2  1  1  1]\n",
      " [ 1  2 -1  8]\n",
      " [ 3 -2  2 -7]]\n",
      "\n",
      "Row Echelon Form:\n",
      "--------------------\n",
      "REF :\n",
      " [[2 1 1 1]\n",
      " [0 3 -3 15]\n",
      " [0 0 -18 54]]\n",
      "\n",
      "Solve the simplified equations obtained from REF method to obtain solutions\n",
      "\n",
      "Reduced Row Echelon Form:\n",
      "--------------------------\n",
      "RREF :\n",
      " [[1 0 0 1]\n",
      " [0 1 0 2]\n",
      " [0 0 1 -3]]\n",
      "\n",
      "Solutions : [[1 2 -3]]\n",
      "\n",
      "Matrix Inversion Method:\n",
      "-----------------------------\n",
      "X = Inv(A) * B\n",
      "\n",
      "Inverse of A:\n",
      " [[-0.22222222  0.44444444  0.33333333]\n",
      " [ 0.55555556 -0.11111111 -0.33333333]\n",
      " [ 0.88888889 -0.77777778 -0.33333333]]\n",
      "\n",
      "B:\n",
      " [[ 1]\n",
      " [ 8]\n",
      " [-7]]\n",
      "\n",
      "Solutions : [[ 1.  2. -3.]]\n",
      "\n",
      "Cramers Rule:\n",
      "-----------------------------\n",
      "A:\n",
      " [[ 2  1  1]\n",
      " [ 1  2 -1]\n",
      " [ 3 -2  2]]\n",
      "Det(A) =  -9.000000000000002\n",
      "\n",
      "Ax :\n",
      " [[ 1  1  1]\n",
      " [ 8  2 -1]\n",
      " [-7 -2  2]]\n",
      "Det(Ax) =  -8.999999999999998\n",
      "\n",
      "Ay :\n",
      " [[ 2  1  1]\n",
      " [ 1  8 -1]\n",
      " [ 3 -7  2]]\n",
      "Det(Ay) =  -17.999999999999996\n",
      "\n",
      "Az :\n",
      " [[ 2  1  1]\n",
      " [ 1  2  8]\n",
      " [ 3 -2 -7]]\n",
      "Det(Az) =  27.0\n",
      "\n",
      "Solutions : [[ 1.  2. -3.]]\n"
     ]
    }
   ],
   "source": [
    "coeff = [2,1,1,1,1,2,-1,8,3,-2,2,-7]\n",
    "mat = np.matrix(coeff).reshape(3,4)\n",
    "print(\"Matrix:\\n\", mat)\n",
    "\n",
    "# Method 1 - Using REF\n",
    "\n",
    "print(\"\\nRow Echelon Form:\")\n",
    "print(\"--------------------\")\n",
    "ref = Matrix(mat).echelon_form()\n",
    "print(\"REF :\\n\",np.matrix(ref))\n",
    "print(\"\\nSolve the simplified equations obtained from REF method to obtain solutions\\n\")\n",
    "\n",
    "# Method 2 - Using RREF\n",
    "\n",
    "print(\"Reduced Row Echelon Form:\")\n",
    "print(\"--------------------------\")\n",
    "rref, n = Matrix(mat).rref()\n",
    "print(\"RREF :\\n\", np.matrix(rref))\n",
    "print(\"\\nSolutions :\",np.matrix(rref[:,-1].T))\n",
    "\n",
    "# Method 3 - Using Matrix Inversion\n",
    "\n",
    "print(\"\\nMatrix Inversion Method:\")\n",
    "print(\"-----------------------------\")\n",
    "A = mat[:,:-1]\n",
    "B = mat[:,-1]\n",
    "print(\"X = Inv(A) * B\")\n",
    "print(\"\\nInverse of A:\\n\",A.I)\n",
    "print(\"\\nB:\\n\",B)\n",
    "print(\"\\nSolutions :\", np.matrix((A.I).dot(B)).T)\n",
    "\n",
    "# Method 4 - Using Determinants\n",
    "\n",
    "print(\"\\nCramers Rule:\")\n",
    "print(\"-----------------------------\")\n",
    "\n",
    "values = []\n",
    "values.append(np.linalg.det(A))\n",
    "print(\"A:\\n\", A)\n",
    "print(\"Det(A) = \",np.linalg.det(A))\n",
    "\n",
    "Ax = np.append(B,A[:,[1,2]],axis=1)\n",
    "values.append(np.linalg.det(Ax))\n",
    "print(\"\\nAx :\\n\", Ax)\n",
    "print(\"Det(Ax) = \",np.linalg.det(Ax))\n",
    "\n",
    "Ay = np.append(A[:,0],np.append(B,A[:,-1],axis=1),axis=1)\n",
    "values.append(np.linalg.det(Ay))\n",
    "print(\"\\nAy :\\n\", Ay)\n",
    "print(\"Det(Ay) = \",np.linalg.det(Ay))\n",
    "                          \n",
    "Az = np.append(A[:,[0,1]],B,axis=1)\n",
    "values.append(np.linalg.det(Az))\n",
    "print(\"\\nAz :\\n\", Az)\n",
    "print(\"Det(Az) = \",np.linalg.det(Az))\n",
    "\n",
    "solutions = []\n",
    "for i in range(3):\n",
    "    solutions.append(float(values[i+1])/values[0])\n",
    "\n",
    "print(\"\\nSolutions :\", np.matrix(solutions))"
   ]
  },
  {
   "cell_type": "markdown",
   "metadata": {},
   "source": [
    "Solve this system of equation using each of the four methods: REF, RREF, Matrix Inversion Method, Determinant Method. Verify the answers using emathhelp.net calculators or Python or Excel where possible. \n",
    "\n",
    "\n",
    "2x + y + z = 1\n",
    "\n",
    "x + 2y – z = 8\n",
    "\n",
    "3x – 2y + 2z = -7 "
   ]
  },
  {
   "cell_type": "code",
   "execution_count": 10,
   "metadata": {
    "scrolled": true
   },
   "outputs": [
    {
     "name": "stdout",
     "output_type": "stream",
     "text": [
      "matrix:\n",
      "  [[ 2  1  1  1]\n",
      " [ 1  2 -1  8]\n",
      " [ 3 -2  2 -7]]\n",
      "\n",
      "\n",
      "_______________________________________________________________________________________________________________________\n",
      "Row echloan form \n",
      "REF \n",
      "  [[2 1 1 1]\n",
      " [0 3 -3 15]\n",
      " [0 0 -18 54]]\n",
      "by solving the above equation we got value of a = 1  , b = 2 , c = -3\n",
      "-----------------------------------------------------------------------------------------------------------------------\n",
      "Reduced Row Echelon Form \n",
      "RREF :\n",
      "  [[1 0 0 1]\n",
      " [0 1 0 2]\n",
      " [0 0 1 -3]]\n",
      "\n",
      " solutions a ,b , c : \n",
      " [[1 2 -3]]\n",
      "\n",
      "\n",
      "-------------------------------------------------------------------------------------------------------------------\n",
      "\n",
      " MATRIX INVERSION METHOD\n",
      "A \n",
      " [[ 2  1  1]\n",
      " [ 1  2 -1]\n",
      " [ 3 -2  2]]\n",
      "B \n",
      "  [[ 1]\n",
      " [ 8]\n",
      " [-7]]\n",
      "X = A(inv) * B\n",
      "solution\n",
      " [[ 1.  2. -3.]]\n",
      "----------------------------------------------------------------------------------------------------------------------\n"
     ]
    }
   ],
   "source": [
    "coeff = [2 ,1,1,1,1,2,-1,8,3,-2,2,-7]\n",
    "mat = np.mat(coeff).reshape(3,4)\n",
    "print('matrix:\\n ',mat)\n",
    "print('\\n')\n",
    "print('_______________________________________________________________________________________________________________________')\n",
    "\n",
    "\n",
    "## Method 1 using REF\n",
    "print(\"Row echloan form \")\n",
    "ref = Matrix(mat).echelon_form()\n",
    "print('REF \\n ' , np.matrix(ref))\n",
    "print(\"by solving the above equation we got value of a = 1  , b = 2 , c = -3\")\n",
    "print('-----------------------------------------------------------------------------------------------------------------------')\n",
    "\n",
    "\n",
    "## Method 2 using RREF\n",
    "print(\"Reduced Row Echelon Form \")\n",
    "rref , n  = Matrix(mat).rref()\n",
    "print('RREF :\\n ' ,np.matrix(rref))\n",
    "print('\\n solutions a ,b , c : \\n', np.matrix(rref[:,-1].T))\n",
    "print('\\n')\n",
    "print('-------------------------------------------------------------------------------------------------------------------')\n",
    "\n",
    "# method 3 using matrix inversion\n",
    "print('\\n MATRIX INVERSION METHOD')\n",
    "A = mat[: , :-1]\n",
    "B = mat[: , -1]\n",
    "print('A \\n',A)\n",
    "print('B \\n ', B)\n",
    "print( 'X = A(inv) * B')\n",
    "print('solution\\n' ,np.matrix((A.I).dot(B)).T)\n",
    "\n",
    "print('----------------------------------------------------------------------------------------------------------------------')\n",
    "\n"
   ]
  },
  {
   "cell_type": "markdown",
   "metadata": {},
   "source": [
    "## cramers rule not understood"
   ]
  },
  {
   "cell_type": "code",
   "execution_count": 11,
   "metadata": {},
   "outputs": [
    {
     "name": "stdout",
     "output_type": "stream",
     "text": [
      "\n",
      "Cramers Rule:\n",
      "-----------------------------\n",
      "A:\n",
      " [[ 2  1  1]\n",
      " [ 1  2 -1]\n",
      " [ 3 -2  2]]\n",
      "Det(A) =  -9.000000000000002\n",
      "\n",
      "Ax :\n",
      " [[ 1  1  1]\n",
      " [ 8  2 -1]\n",
      " [-7 -2  2]]\n",
      "Det(Ax) =  -8.999999999999998\n",
      "\n",
      "Ay :\n",
      " [[ 2  1  1]\n",
      " [ 1  8 -1]\n",
      " [ 3 -7  2]]\n",
      "Det(Ay) =  -17.999999999999996\n",
      "\n",
      "Az :\n",
      " [[ 2  1  1]\n",
      " [ 1  2  8]\n",
      " [ 3 -2 -7]]\n",
      "Det(Az) =  27.0\n",
      "\n",
      "Solutions : [[ 1.  2. -3.]]\n"
     ]
    }
   ],
   "source": [
    "print(\"\\nCramers Rule:\")\n",
    "print(\"-----------------------------\")\n",
    "\n",
    "values = []\n",
    "values.append(np.linalg.det(A))\n",
    "print(\"A:\\n\", A)\n",
    "print(\"Det(A) = \",np.linalg.det(A))\n",
    "\n",
    "Ax = np.append(B,A[:,[1,2]],axis=1)\n",
    "values.append(np.linalg.det(Ax))\n",
    "print(\"\\nAx :\\n\", Ax)\n",
    "print(\"Det(Ax) = \",np.linalg.det(Ax))\n",
    "\n",
    "Ay = np.append(A[:,0],np.append(B,A[:,-1],axis=1),axis=1)\n",
    "values.append(np.linalg.det(Ay))\n",
    "print(\"\\nAy :\\n\", Ay)\n",
    "print(\"Det(Ay) = \",np.linalg.det(Ay))\n",
    "                          \n",
    "Az = np.append(A[:,[0,1]],B,axis=1)\n",
    "values.append(np.linalg.det(Az))\n",
    "print(\"\\nAz :\\n\", Az)\n",
    "print(\"Det(Az) = \",np.linalg.det(Az))\n",
    "\n",
    "solutions = []\n",
    "for i in range(3):\n",
    "    solutions.append(float(values[i+1])/values[0])\n",
    "\n",
    "print(\"\\nSolutions :\", np.matrix(solutions))"
   ]
  },
  {
   "cell_type": "markdown",
   "metadata": {},
   "source": [
    "3)Following are some properties of matrices. Use 2x2 matrices and verify these using Python. Watch out, there could be some typos so when results do not match try to work out with both methods and be sure.\n",
    "\n",
    "a)(AT)T = A\n",
    "\n",
    "b)(A-1)-1 = A\n",
    "\n",
    "c)(AB)-1  NOT EQUAL TO A-1 B-1\n",
    "\n",
    "  (AB)-1   EQUAL TO B-1 A-1\n",
    "\n",
    "d)(AB)T = BTAT YES IT IS EQUAL\n",
    "\n",
    "e)(A + B)T = AT + BT  YES IT IS EQUAL\n",
    "\n",
    "f)(AT) -1 = (A-1)T   YES IT IS EQUAL\n",
    "\n",
    "g)A(Adjoint A) = (Adjoint A) A   YES IT IS EQUAL\n",
    "\n",
    "h)A-1 = (1/Determinant of A) * Adjoint A   YES IT IS EQUAL TO"
   ]
  },
  {
   "cell_type": "markdown",
   "metadata": {},
   "source": [
    "A =  [[1,-1],[2,4]]\n",
    " \n",
    "B = [[0,2],[1,3]] \n",
    "\n",
    "C = [[1,2],[3,4]]"
   ]
  },
  {
   "cell_type": "code",
   "execution_count": 32,
   "metadata": {},
   "outputs": [
    {
     "name": "stdout",
     "output_type": "stream",
     "text": [
      "A\n",
      " [[ 1 -1]\n",
      " [ 2  4]]\n",
      "B\n",
      " [[0 2]\n",
      " [1 3]]\n",
      "C\n",
      " [[1 2]\n",
      " [3 4]]\n",
      "\n",
      "\n",
      "a)(AT)T = A\n",
      "\n",
      "(A.T).T = A \n",
      " [[ 1 -1]\n",
      " [ 2  4]]\n",
      "A \n",
      " [[ 1 -1]\n",
      " [ 2  4]]\n",
      "--------------------------------------------------------------------------------------------------------------\n",
      "\n",
      "A-1)-1 = A\n",
      " \n",
      "(A.inv).inv \n",
      " [[ 1. -1.]\n",
      " [ 2.  4.]]\n",
      "\n",
      "A\n",
      " [[ 1 -1]\n",
      " [ 2  4]]\n",
      "-----------------------------------------------------------------------------------------------------------------\n",
      " \n",
      "(AB)-1 EQUAL TO B-1 A-1\n",
      "AB. INV = \n",
      " [[-1.33333333 -0.08333333]\n",
      " [ 0.33333333  0.08333333]]\n",
      "\n",
      "B.INV .A.INV \n",
      "  [[-1.33333333 -0.08333333]\n",
      " [ 0.33333333  0.08333333]]\n",
      "-----------------------------------------------------------------------------------------------------------------\n",
      " \n",
      "(AB)T = BTAT\n",
      "(AB).Transpose = \n",
      " [[-1  4]\n",
      " [-1 16]]\n",
      "\n",
      "B.Trans.A.Trans = \n",
      "  [[-1  4]\n",
      " [-1 16]]\n",
      " \n",
      "--------------------------------------------------------------------------------------------------------------\n",
      "(A + B)T = AT + BT \n",
      "(A+B).T \n",
      " [[1 3]\n",
      " [1 7]]\n",
      " \n",
      "A.T + B.T \n",
      " [[1 3]\n",
      " [1 7]]\n",
      " \n",
      "-------------------------------------------------------------------------------------------------------------\n",
      "\n",
      "(AT) -1 = (A-1)\n",
      " [[ 0.66666667 -0.33333333]\n",
      " [ 0.16666667  0.16666667]]\n",
      "\n",
      "(AT) -1 = \n",
      " [[ 0.66666667 -0.33333333]\n",
      " [ 0.16666667  0.16666667]]\n",
      "\n",
      "-------------------------------------------------------------------------------------------------------------\n",
      "\n"
     ]
    }
   ],
   "source": [
    "A = np.matrix([[1,-1],[2,4]])\n",
    "B = np.matrix([[0,2],[1,3]])\n",
    "C = np.matrix([[1,2],[3,4]])\n",
    "\n",
    "print('A\\n',A)\n",
    "print('B\\n', B)\n",
    "print('C\\n', C)\n",
    "print('\\n')\n",
    "\n",
    "print('a)(AT)T = A')\n",
    "print('')\n",
    "print('(A.T).T = A \\n', A.T.T)\n",
    "print('A \\n' , A)\n",
    "print('--------------------------------------------------------------------------------------------------------------')\n",
    "\n",
    "print('')\n",
    "print('A-1)-1 = A')\n",
    "print(' ')\n",
    "print('(A.inv).inv \\n' , A.I.I )\n",
    "print('')\n",
    "print('A\\n',A)\n",
    "print('-----------------------------------------------------------------------------------------------------------------')\n",
    "\n",
    "print(' ')\n",
    "print('(AB)-1 EQUAL TO B-1 A-1')\n",
    "print('AB. INV = \\n', (A@B).I)\n",
    "print('')\n",
    "print('B.INV .A.INV \\n ' , B.I@A.I)\n",
    "print('-----------------------------------------------------------------------------------------------------------------')\n",
    "\n",
    "print(' ')\n",
    "print('(AB)T = BTAT')\n",
    "d = A@B\n",
    "print('(AB).Transpose = \\n',d.T)\n",
    "print('')\n",
    "print('B.Trans.A.Trans = \\n ',(B.T)@(A.T))\n",
    "print(' ')\n",
    "print('--------------------------------------------------------------------------------------------------------------')\n",
    "\n",
    "print('(A + B)T = AT + BT ')\n",
    "w = A + B\n",
    "print('(A+B).T \\n', w.T)\n",
    "print(' ')\n",
    "print('A.T + B.T \\n', A.T + B.T)\n",
    "print(' ')\n",
    "print('-------------------------------------------------------------------------------------------------------------')\n",
    "\n",
    "\n",
    "print('')\n",
    "print('(AT) -1 = (A-1)\\n', (A.I).T)\n",
    "print('')\n",
    "print('(AT) -1 = \\n',(A.T).I)\n",
    "print('')\n",
    "print('-------------------------------------------------------------------------------------------------------------')\n",
    "print('')\n"
   ]
  },
  {
   "cell_type": "code",
   "execution_count": null,
   "metadata": {},
   "outputs": [],
   "source": []
  }
 ],
 "metadata": {
  "kernelspec": {
   "display_name": "Python 3",
   "language": "python",
   "name": "python3"
  },
  "language_info": {
   "codemirror_mode": {
    "name": "ipython",
    "version": 3
   },
   "file_extension": ".py",
   "mimetype": "text/x-python",
   "name": "python",
   "nbconvert_exporter": "python",
   "pygments_lexer": "ipython3",
   "version": "3.7.6"
  }
 },
 "nbformat": 4,
 "nbformat_minor": 4
}
