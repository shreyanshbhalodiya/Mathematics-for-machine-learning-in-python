{
 "cells": [
  {
   "cell_type": "code",
   "execution_count": 2,
   "metadata": {},
   "outputs": [],
   "source": [
    "import numpy as np"
   ]
  },
  {
   "cell_type": "markdown",
   "metadata": {},
   "source": [
    "## 1] Solve using RREF and interpret (2 marks)\n",
    "\n",
    "2x1 − 6x3 = −8 \n",
    "x2 + 2x3 = 3 \n",
    "3x1 + 6x2 − 2x3 = −4\n",
    "\n",
    "Is this system of equations Consistent or Inconsistent?"
   ]
  },
  {
   "cell_type": "markdown",
   "metadata": {},
   "source": [
    "If |A| !=0, then consistent and unique solutions\n",
    "\n",
    "•If |A|=0 and \n",
    "\n",
    "•(Adj A) B = 0, then consistent and has infinite solutions\n",
    "\n",
    "•(Adj A) B != 0, then inconsistent "
   ]
  },
  {
   "cell_type": "code",
   "execution_count": 3,
   "metadata": {
    "scrolled": false
   },
   "outputs": [
    {
     "name": "stdout",
     "output_type": "stream",
     "text": [
      "[[ 2  0 -6]\n",
      " [ 0  1  2]\n",
      " [ 3  6 -2]]\n",
      "\n",
      "\n",
      "detA =  9.999999999999998\n",
      "|detA| !=0, then consistent and unique solutions\n"
     ]
    }
   ],
   "source": [
    "A = np.mat([[2,0,-6],[0,1,2],[3,6,-2]])\n",
    "print(A)\n",
    "print('\\n')\n",
    "detA = np.linalg.det(A)\n",
    "print('detA = ' , abs(detA))  \n",
    "print('|detA| !=0, then consistent and unique solutions')"
   ]
  },
  {
   "cell_type": "markdown",
   "metadata": {},
   "source": [
    "## [2] What is the rank of this matrix? (2 Marks)\n",
    "3 / 2 / 1 / 9 / 0\n",
    "\n",
    "5\t3\t0\n",
    "\n",
    "1\t2\t-4\n",
    "\n",
    "-2\t-4\t8"
   ]
  },
  {
   "cell_type": "code",
   "execution_count": 4,
   "metadata": {},
   "outputs": [
    {
     "name": "stdout",
     "output_type": "stream",
     "text": [
      "A = \n",
      " [[ 5  3  0]\n",
      " [ 1  2 -4]\n",
      " [-2 -4  8]]\n",
      "\n",
      " Rank of Matrix \n",
      "2\n"
     ]
    }
   ],
   "source": [
    "A = np.array([[5,3,0],[1,2,-4],[-2,-4,8]])\n",
    "print('A = \\n' ,A)\n",
    "print('\\n Rank of Matrix ')\n",
    "print(np.linalg.matrix_rank(A))"
   ]
  },
  {
   "cell_type": "markdown",
   "metadata": {},
   "source": [
    "# 3] Verify Independence of the following vectors (2 Marks)\n",
    "\n",
    "u\tv\tw\n",
    "\n",
    "1\t3\t0\n",
    "\n",
    "2\t2\t4\n",
    "\n",
    "3\t1\t8\n",
    "\n",
    "The vectors are independent / dependent / Neither"
   ]
  },
  {
   "cell_type": "code",
   "execution_count": 5,
   "metadata": {},
   "outputs": [
    {
     "name": "stdout",
     "output_type": "stream",
     "text": [
      "[[1. 3. 0. 0.]\n",
      " [2. 2. 4. 0.]\n",
      " [3. 1. 8. 0.]]\n",
      "rows is  3\n",
      "column is  4\n",
      "\n",
      "\n",
      "\n",
      " row echelon form \n",
      " [[ 1.  3.  0.  0.]\n",
      " [ 0. -4.  4.  0.]\n",
      " [ 0.  0.  0.  0.]]\n",
      "\n",
      " final answer\n",
      "[nan nan nan]\n",
      " [a, b, c ]\n"
     ]
    },
    {
     "name": "stderr",
     "output_type": "stream",
     "text": [
      "C:\\ProgramData\\Anaconda3\\lib\\site-packages\\ipykernel_launcher.py:24: RuntimeWarning: invalid value encountered in double_scalars\n"
     ]
    }
   ],
   "source": [
    "from numpy import *\n",
    "a = array([[1,3,0,0],[2,2,4,0],[3,1,8,0]] , dtype =float)\n",
    "## define matrix\n",
    "## Get Rows and Columns\n",
    "rows = shape(a)[0]\n",
    "cols = shape(a)[1]\n",
    "## solution vector to store solutions\n",
    "x = zeros(cols-1)\n",
    "## print matrix here\n",
    "print(a)\n",
    "print('rows is ',rows)\n",
    "print('column is ',cols)\n",
    "print('\\n')\n",
    "## forwarding algorithm here \n",
    "for i in range(cols-1):\n",
    "    for j in range(i+1 , rows):\n",
    "        a[j ,:]= -(a[j,i]/a[i,i])*a[i , :] + a[j ,:]\n",
    "       \n",
    " ### prining matrix in row echelon form\n",
    "print('\\n row echelon form \\n' , a)\n",
    "\n",
    "### Backsubstitution of algorithm \n",
    "for i in arange(rows-1,-1,-1):\n",
    "    x[i] = (a[i ,-1]-a[ i ,0:cols-1]@x)/a[i , i]\n",
    "print('\\n final answer')\n",
    "print(x)\n",
    "print(' [a, b, c ]')"
   ]
  },
  {
   "cell_type": "markdown",
   "metadata": {},
   "source": [
    "### We do not got a , b , c =0 to be linearly independent but we neither got a ,b, c as some value \n",
    "### So lets calculate dot product of any two vectors \n",
    "### if a.b != 0 then vectors are neither dependet or independence\n"
   ]
  },
  {
   "cell_type": "code",
   "execution_count": 6,
   "metadata": {},
   "outputs": [
    {
     "name": "stdout",
     "output_type": "stream",
     "text": [
      "a.b =  10\n",
      "so a.b != 0 then vectors are neither dependet or independence\n"
     ]
    }
   ],
   "source": [
    "a = np.array([1,2,3])\n",
    "b = np.array([3,2,1])\n",
    "print('a.b = ',np.dot(a,b))\n",
    "print('so a.b != 0 then vectors are neither dependet or independence')"
   ]
  },
  {
   "cell_type": "markdown",
   "metadata": {},
   "source": [
    "# [4] Find Basis Vectors of the subspace spanned by the following  (2 Marks)\n",
    "\n",
    "U1 = [1,2,2-1]\n",
    "\n",
    "U2 = [1,3,1,1]\n",
    "\n",
    "U3 = [1,5,-1,5]\n",
    "\n",
    "U4 = [1,1,4,-1]\n",
    "\n",
    "U5 = [2,7,0,2]\n",
    "\n",
    "### We first put these in array/matrices and then take transpose of it to form matrices)"
   ]
  },
  {
   "cell_type": "code",
   "execution_count": 15,
   "metadata": {},
   "outputs": [
    {
     "name": "stdout",
     "output_type": "stream",
     "text": [
      "[[ 1  2  2 -1]\n",
      " [ 1  3  1  1]\n",
      " [ 1  5 -1  5]\n",
      " [ 1  1  4 -1]\n",
      " [ 2  7  0  2]]\n",
      "\n",
      " [[ 1  1  1  1  2]\n",
      " [ 2  3  5  1  7]\n",
      " [ 2  1 -1  4  0]\n",
      " [-1  1  5 -1  2]]\n",
      "Reduced Row Echelon Form:\n",
      "RREF :\n",
      " [[1 0 -2 0 1]\n",
      " [0 1 3 0 2]\n",
      " [0 0 0 1 -1]\n",
      " [0 0 0 0 0]]\n"
     ]
    }
   ],
   "source": [
    "mat = np.matrix([[1,2,2,-1],[1,3,1,1],[1,5,-1,5],[1,1,4,-1],[2,7,0,2]])\n",
    "print(mat)\n",
    "print('\\n',mat.T)\n",
    "print(\"Reduced Row Echelon Form:\")\n",
    "rref, n = Matrix(mat.T).rref()\n",
    "print(\"RREF :\\n\", np.matrix(rref))\n"
   ]
  },
  {
   "cell_type": "markdown",
   "metadata": {},
   "source": [
    "#### We Can clearly see that in  RREF Column 1 , 2 ,4 has pivots so these are our  basis For the Subspace Spanned by the Given Vectors\n",
    "#### So column or vector U1 = [1,2,2-1] ,U2 = [1,3,1,1]  ,U4 = [1,1,4,-1] \n",
    "#### are our  Basis For the Subspace Spanned by the Given Vectors"
   ]
  },
  {
   "cell_type": "markdown",
   "metadata": {},
   "source": [
    "# [5] Calculate the L1 and L2 Norms of this vector \t\t(2 Marks)\n",
    "## [-4, 3, 0, 2, -1, 5]\n",
    "\n",
    "#### L2 Norm is sqrt of sum of squares of values = sqrt(a**2 + b**2 + c**2 + ...........)\n",
    "#### L1 Norm is sum of absolute values  = |a| + |b| |c| + |d| + ........."
   ]
  },
  {
   "cell_type": "code",
   "execution_count": 8,
   "metadata": {},
   "outputs": [
    {
     "name": "stdout",
     "output_type": "stream",
     "text": [
      "L2 Norm [7.41619849]\n",
      "L1 Norm 15\n"
     ]
    }
   ],
   "source": [
    "x = -4*-4 + 3*3 + 0*0 + 2*2 + -1*-1 +5*5\n",
    "L2 = np.sqrt([x])\n",
    "print('L2 Norm' , L2)\n",
    "L1 = abs(-4) + abs(3)+abs(0)+abs(2)+abs(-1)+abs(5)\n",
    "print('L1 Norm', L1 )"
   ]
  },
  {
   "cell_type": "code",
   "execution_count": 9,
   "metadata": {
    "scrolled": true
   },
   "outputs": [
    {
     "name": "stdout",
     "output_type": "stream",
     "text": [
      "4.0\n",
      "3.0\n",
      "0.0\n",
      "2.0\n",
      "1.0\n",
      "5.0\n"
     ]
    }
   ],
   "source": [
    "L = [-4,3,0,2,-1,5]\n",
    "i = 1\n",
    "for i in L:\n",
    "    L2 = sqrt(i*i)\n",
    "    print(L2)"
   ]
  },
  {
   "cell_type": "markdown",
   "metadata": {},
   "source": [
    "# [6] What will [4,2] from [1,0], [0,1] basis to a new basis of [2,0] and [0,2]? \t (2 Marks)\n"
   ]
  },
  {
   "cell_type": "markdown",
   "metadata": {},
   "source": [
    "NewVector  = Inv(New Basis).Old Basis.Oldvector\n",
    "\n",
    "old = ([1,0],[0,1]).[4,2] \n",
    "\n"
   ]
  },
  {
   "cell_type": "code",
   "execution_count": 21,
   "metadata": {},
   "outputs": [
    {
     "name": "stdout",
     "output_type": "stream",
     "text": [
      " old Basis\n",
      " [[1 0]\n",
      " [0 1]] \n",
      "\n",
      "\n",
      " old Vector\n",
      "  [[4]\n",
      " [2]] \n",
      "\n",
      "new basis\n",
      " [[2 0]\n",
      " [0 2]]\n",
      "\n",
      " NewVector = Inv(New Basis).Old Basis.Oldvector\n",
      "\n",
      " new Vector \n",
      " [[2.]\n",
      " [1.]]\n"
     ]
    }
   ],
   "source": [
    "U = np.matrix([[1,0],[0,1]])\n",
    "v = np.array([[4],[2]])\n",
    "print(' old Basis\\n', U ,'\\n')\n",
    "print('\\n old Vector\\n ', v,'\\n')\n",
    "New_Basis = np.matrix([[2,0],[0,2]])\n",
    "print('new basis\\n' , New_Basis)\n",
    "inv_NB = New_Basis.I\n",
    "print('\\n NewVector = Inv(New Basis).Old Basis.Oldvector')\n",
    "NewVector = inv_NB*U*v\n",
    "print('\\n new Vector \\n' ,NewVector)"
   ]
  },
  {
   "cell_type": "markdown",
   "metadata": {},
   "source": [
    "## [7] Compute the L and U components of this matrix (4 Marks)\n",
    "\n",
    "\n",
    "6\t-2\t 0\n",
    "\n",
    "9\t-1\t 1\n",
    "\n",
    "3\t 7\t 5\n",
    "\n",
    "Select the option that matches the calculated L and U  matrices.\n",
    "\n",
    "L has a row 0.5, 4, 1 and U has a row with 0, 0, 1\n",
    "\n",
    "## LU Decomposition"
   ]
  },
  {
   "cell_type": "code",
   "execution_count": 11,
   "metadata": {},
   "outputs": [
    {
     "name": "stdout",
     "output_type": "stream",
     "text": [
      "Given Matrix in question is A = \n"
     ]
    },
    {
     "data": {
      "text/latex": [
       "$\\displaystyle \\left[\\begin{matrix}6 & -2 & 0\\\\9 & -1 & 1\\\\3 & 7 & 5\\end{matrix}\\right]$"
      ],
      "text/plain": [
       "⎡6  -2  0⎤\n",
       "⎢        ⎥\n",
       "⎢9  -1  1⎥\n",
       "⎢        ⎥\n",
       "⎣3  7   5⎦"
      ]
     },
     "execution_count": 11,
     "metadata": {},
     "output_type": "execute_result"
    }
   ],
   "source": [
    "from sympy import Matrix\n",
    "from sympy import init_printing\n",
    "init_printing()\n",
    "\n",
    "A = Matrix([[6,-2,0],[9,-1,1],[3,7,5]])\n",
    "print('Given Matrix in question is A = ')\n",
    "A\n"
   ]
  },
  {
   "cell_type": "code",
   "execution_count": 12,
   "metadata": {},
   "outputs": [
    {
     "name": "stdout",
     "output_type": "stream",
     "text": [
      "lower triangle\n"
     ]
    },
    {
     "data": {
      "text/latex": [
       "$\\displaystyle \\left[\\begin{matrix}1 & 0 & 0\\\\\\frac{3}{2} & 1 & 0\\\\\\frac{1}{2} & 4 & 1\\end{matrix}\\right]$"
      ],
      "text/plain": [
       "⎡ 1   0  0⎤\n",
       "⎢         ⎥\n",
       "⎢3/2  1  0⎥\n",
       "⎢         ⎥\n",
       "⎣1/2  4  1⎦"
      ]
     },
     "execution_count": 12,
     "metadata": {},
     "output_type": "execute_result"
    }
   ],
   "source": [
    "L , U , _ = A.LUdecomposition()\n",
    "print('lower triangle')\n",
    "L ## Lower Triangle"
   ]
  },
  {
   "cell_type": "code",
   "execution_count": 13,
   "metadata": {
    "scrolled": true
   },
   "outputs": [
    {
     "name": "stdout",
     "output_type": "stream",
     "text": [
      "upper triangle\n"
     ]
    },
    {
     "data": {
      "text/latex": [
       "$\\displaystyle \\left[\\begin{matrix}6 & -2 & 0\\\\0 & 2 & 1\\\\0 & 0 & 1\\end{matrix}\\right]$"
      ],
      "text/plain": [
       "⎡6  -2  0⎤\n",
       "⎢        ⎥\n",
       "⎢0  2   1⎥\n",
       "⎢        ⎥\n",
       "⎣0  0   1⎦"
      ]
     },
     "execution_count": 13,
     "metadata": {},
     "output_type": "execute_result"
    }
   ],
   "source": [
    "print('upper triangle')\n",
    "U ## Upper Triangle"
   ]
  },
  {
   "cell_type": "code",
   "execution_count": 14,
   "metadata": {},
   "outputs": [
    {
     "name": "stdout",
     "output_type": "stream",
     "text": [
      "\n",
      "\n",
      "A == L*U is  True Hence Varified\n"
     ]
    }
   ],
   "source": [
    "print('\\n')\n",
    "print('A == L*U is ', A == L*U , 'Hence Varified')"
   ]
  },
  {
   "cell_type": "code",
   "execution_count": null,
   "metadata": {},
   "outputs": [],
   "source": []
  },
  {
   "cell_type": "code",
   "execution_count": null,
   "metadata": {},
   "outputs": [],
   "source": []
  },
  {
   "cell_type": "code",
   "execution_count": null,
   "metadata": {},
   "outputs": [],
   "source": []
  }
 ],
 "metadata": {
  "kernelspec": {
   "display_name": "Python 3",
   "language": "python",
   "name": "python3"
  },
  "language_info": {
   "codemirror_mode": {
    "name": "ipython",
    "version": 3
   },
   "file_extension": ".py",
   "mimetype": "text/x-python",
   "name": "python",
   "nbconvert_exporter": "python",
   "pygments_lexer": "ipython3",
   "version": "3.7.6"
  }
 },
 "nbformat": 4,
 "nbformat_minor": 4
}
